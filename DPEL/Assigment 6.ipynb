{
 "cells": [
  {
   "cell_type": "markdown",
   "id": "871753e6",
   "metadata": {},
   "source": [
    "# Assignment 6 Data Scaling"
   ]
  },
  {
   "cell_type": "code",
   "execution_count": 49,
   "id": "e90b6289",
   "metadata": {},
   "outputs": [],
   "source": [
    "from sklearn.preprocessing import MinMaxScaler, StandardScaler, RobustScaler\n",
    "import numpy as np\n",
    "import pandas as pd"
   ]
  },
  {
   "cell_type": "code",
   "execution_count": 50,
   "id": "ec0beee0",
   "metadata": {},
   "outputs": [
    {
     "data": {
      "text/html": [
       "<div>\n",
       "<style scoped>\n",
       "    .dataframe tbody tr th:only-of-type {\n",
       "        vertical-align: middle;\n",
       "    }\n",
       "\n",
       "    .dataframe tbody tr th {\n",
       "        vertical-align: top;\n",
       "    }\n",
       "\n",
       "    .dataframe thead th {\n",
       "        text-align: right;\n",
       "    }\n",
       "</style>\n",
       "<table border=\"1\" class=\"dataframe\">\n",
       "  <thead>\n",
       "    <tr style=\"text-align: right;\">\n",
       "      <th></th>\n",
       "      <th>A</th>\n",
       "      <th>B</th>\n",
       "    </tr>\n",
       "  </thead>\n",
       "  <tbody>\n",
       "    <tr>\n",
       "      <th>0</th>\n",
       "      <td>5</td>\n",
       "      <td>5</td>\n",
       "    </tr>\n",
       "    <tr>\n",
       "      <th>1</th>\n",
       "      <td>10</td>\n",
       "      <td>2</td>\n",
       "    </tr>\n",
       "    <tr>\n",
       "      <th>2</th>\n",
       "      <td>15</td>\n",
       "      <td>3</td>\n",
       "    </tr>\n",
       "    <tr>\n",
       "      <th>3</th>\n",
       "      <td>20</td>\n",
       "      <td>4</td>\n",
       "    </tr>\n",
       "    <tr>\n",
       "      <th>4</th>\n",
       "      <td>25</td>\n",
       "      <td>5</td>\n",
       "    </tr>\n",
       "  </tbody>\n",
       "</table>\n",
       "</div>"
      ],
      "text/plain": [
       "    A  B\n",
       "0   5  5\n",
       "1  10  2\n",
       "2  15  3\n",
       "3  20  4\n",
       "4  25  5"
      ]
     },
     "execution_count": 50,
     "metadata": {},
     "output_type": "execute_result"
    }
   ],
   "source": [
    "data = pd.DataFrame(data=[[5,5],[10,2],[15,3],[20,4],[25,5]], columns=['A','B'])\n",
    "data"
   ]
  },
  {
   "cell_type": "markdown",
   "id": "92b39905",
   "metadata": {},
   "source": [
    "### Min Max Scaler"
   ]
  },
  {
   "cell_type": "code",
   "execution_count": 51,
   "id": "4002a9e5",
   "metadata": {},
   "outputs": [
    {
     "data": {
      "text/plain": [
       "array([[0.        , 1.        ],\n",
       "       [0.25      , 0.        ],\n",
       "       [0.5       , 0.33333333],\n",
       "       [0.75      , 0.66666667],\n",
       "       [1.        , 1.        ]])"
      ]
     },
     "execution_count": 51,
     "metadata": {},
     "output_type": "execute_result"
    }
   ],
   "source": [
    "scalar = MinMaxScaler()\n",
    "minmax_data = scalar.fit_transform(data)\n",
    "minmax_data"
   ]
  },
  {
   "cell_type": "markdown",
   "id": "c43d1d3b",
   "metadata": {},
   "source": [
    "## Applying Scaling on DATASET"
   ]
  },
  {
   "cell_type": "code",
   "execution_count": 54,
   "id": "5524c702",
   "metadata": {},
   "outputs": [
    {
     "data": {
      "text/html": [
       "<div>\n",
       "<style scoped>\n",
       "    .dataframe tbody tr th:only-of-type {\n",
       "        vertical-align: middle;\n",
       "    }\n",
       "\n",
       "    .dataframe tbody tr th {\n",
       "        vertical-align: top;\n",
       "    }\n",
       "\n",
       "    .dataframe thead th {\n",
       "        text-align: right;\n",
       "    }\n",
       "</style>\n",
       "<table border=\"1\" class=\"dataframe\">\n",
       "  <thead>\n",
       "    <tr style=\"text-align: right;\">\n",
       "      <th></th>\n",
       "      <th>timestamp</th>\n",
       "      <th>name</th>\n",
       "      <th>symbol</th>\n",
       "      <th>price_usd</th>\n",
       "      <th>vol_24h</th>\n",
       "      <th>total_vol</th>\n",
       "      <th>chg_24h</th>\n",
       "      <th>chg_7d</th>\n",
       "      <th>market_cap</th>\n",
       "    </tr>\n",
       "  </thead>\n",
       "  <tbody>\n",
       "    <tr>\n",
       "      <th>0</th>\n",
       "      <td>2025-09-23 01:05:12</td>\n",
       "      <td>BNB</td>\n",
       "      <td>BNB</td>\n",
       "      <td>990.2</td>\n",
       "      <td>$4.87B</td>\n",
       "      <td>2.12%</td>\n",
       "      <td>-5.70%</td>\n",
       "      <td>+7.38%</td>\n",
       "      <td>$137.66B</td>\n",
       "    </tr>\n",
       "    <tr>\n",
       "      <th>1</th>\n",
       "      <td>2025-09-23 01:05:12</td>\n",
       "      <td>Dogecoin</td>\n",
       "      <td>DOGE</td>\n",
       "      <td>0.241003</td>\n",
       "      <td>$5.60B</td>\n",
       "      <td>2.48%</td>\n",
       "      <td>-8.69%</td>\n",
       "      <td>-10.26%</td>\n",
       "      <td>$36.21B</td>\n",
       "    </tr>\n",
       "    <tr>\n",
       "      <th>2</th>\n",
       "      <td>2025-09-23 01:05:12</td>\n",
       "      <td>Ethereum</td>\n",
       "      <td>ETH</td>\n",
       "      <td>4,191.67</td>\n",
       "      <td>$58.33B</td>\n",
       "      <td>24.46%</td>\n",
       "      <td>-6.29%</td>\n",
       "      <td>-7.10%</td>\n",
       "      <td>$506.47B</td>\n",
       "    </tr>\n",
       "    <tr>\n",
       "      <th>3</th>\n",
       "      <td>2025-09-23 01:05:12</td>\n",
       "      <td>Bitcoin</td>\n",
       "      <td>BTC</td>\n",
       "      <td>112,796.60</td>\n",
       "      <td>$70.20B</td>\n",
       "      <td>28.66%</td>\n",
       "      <td>-2.13%</td>\n",
       "      <td>-2.16%</td>\n",
       "      <td>$2.25T</td>\n",
       "    </tr>\n",
       "    <tr>\n",
       "      <th>4</th>\n",
       "      <td>2025-09-23 01:05:12</td>\n",
       "      <td>XRP</td>\n",
       "      <td>XRP</td>\n",
       "      <td>2.8519</td>\n",
       "      <td>$10.05B</td>\n",
       "      <td>4.22%</td>\n",
       "      <td>-4.49%</td>\n",
       "      <td>-5.22%</td>\n",
       "      <td>$170.09B</td>\n",
       "    </tr>\n",
       "    <tr>\n",
       "      <th>...</th>\n",
       "      <td>...</td>\n",
       "      <td>...</td>\n",
       "      <td>...</td>\n",
       "      <td>...</td>\n",
       "      <td>...</td>\n",
       "      <td>...</td>\n",
       "      <td>...</td>\n",
       "      <td>...</td>\n",
       "      <td>...</td>\n",
       "    </tr>\n",
       "    <tr>\n",
       "      <th>94441</th>\n",
       "      <td>2025-03-17 00:34:14</td>\n",
       "      <td>Solana</td>\n",
       "      <td>SOL</td>\n",
       "      <td>127.675</td>\n",
       "      <td>$2.36B</td>\n",
       "      <td>3.90%</td>\n",
       "      <td>-6.14%</td>\n",
       "      <td>-0.46%</td>\n",
       "      <td>$64.91B</td>\n",
       "    </tr>\n",
       "    <tr>\n",
       "      <th>94442</th>\n",
       "      <td>2025-03-17 00:34:14</td>\n",
       "      <td>Bitcoin</td>\n",
       "      <td>BTC</td>\n",
       "      <td>82,953.80</td>\n",
       "      <td>$19.36B</td>\n",
       "      <td>31.82%</td>\n",
       "      <td>-1.66%</td>\n",
       "      <td>+0.45%</td>\n",
       "      <td>$1.64T</td>\n",
       "    </tr>\n",
       "    <tr>\n",
       "      <th>94443</th>\n",
       "      <td>2025-03-17 00:34:14</td>\n",
       "      <td>XRP</td>\n",
       "      <td>XRP</td>\n",
       "      <td>2.3201</td>\n",
       "      <td>$3.85B</td>\n",
       "      <td>6.82%</td>\n",
       "      <td>-4.14%</td>\n",
       "      <td>+6.16%</td>\n",
       "      <td>$134.52B</td>\n",
       "    </tr>\n",
       "    <tr>\n",
       "      <th>94444</th>\n",
       "      <td>2025-03-17 00:34:14</td>\n",
       "      <td>Tether USDt</td>\n",
       "      <td>USDT</td>\n",
       "      <td>1</td>\n",
       "      <td>$46.75B</td>\n",
       "      <td>79.72%</td>\n",
       "      <td>-0.01%</td>\n",
       "      <td>+0.00%</td>\n",
       "      <td>$143.45B</td>\n",
       "    </tr>\n",
       "    <tr>\n",
       "      <th>94445</th>\n",
       "      <td>2025-03-17 00:34:14</td>\n",
       "      <td>USDC</td>\n",
       "      <td>USDC</td>\n",
       "      <td>1</td>\n",
       "      <td>$5.16B</td>\n",
       "      <td>8.43%</td>\n",
       "      <td>+0.01%</td>\n",
       "      <td>+0.00%</td>\n",
       "      <td>$58.72B</td>\n",
       "    </tr>\n",
       "  </tbody>\n",
       "</table>\n",
       "<p>94446 rows × 9 columns</p>\n",
       "</div>"
      ],
      "text/plain": [
       "                 timestamp         name symbol   price_usd  vol_24h total_vol  \\\n",
       "0      2025-09-23 01:05:12          BNB    BNB       990.2   $4.87B     2.12%   \n",
       "1      2025-09-23 01:05:12     Dogecoin   DOGE    0.241003   $5.60B     2.48%   \n",
       "2      2025-09-23 01:05:12     Ethereum    ETH    4,191.67  $58.33B    24.46%   \n",
       "3      2025-09-23 01:05:12      Bitcoin    BTC  112,796.60  $70.20B    28.66%   \n",
       "4      2025-09-23 01:05:12          XRP    XRP      2.8519  $10.05B     4.22%   \n",
       "...                    ...          ...    ...         ...      ...       ...   \n",
       "94441  2025-03-17 00:34:14       Solana    SOL     127.675   $2.36B     3.90%   \n",
       "94442  2025-03-17 00:34:14      Bitcoin    BTC   82,953.80  $19.36B    31.82%   \n",
       "94443  2025-03-17 00:34:14          XRP    XRP      2.3201   $3.85B     6.82%   \n",
       "94444  2025-03-17 00:34:14  Tether USDt   USDT           1  $46.75B    79.72%   \n",
       "94445  2025-03-17 00:34:14         USDC   USDC           1   $5.16B     8.43%   \n",
       "\n",
       "      chg_24h   chg_7d market_cap  \n",
       "0      -5.70%   +7.38%   $137.66B  \n",
       "1      -8.69%  -10.26%    $36.21B  \n",
       "2      -6.29%   -7.10%   $506.47B  \n",
       "3      -2.13%   -2.16%     $2.25T  \n",
       "4      -4.49%   -5.22%   $170.09B  \n",
       "...       ...      ...        ...  \n",
       "94441  -6.14%   -0.46%    $64.91B  \n",
       "94442  -1.66%   +0.45%     $1.64T  \n",
       "94443  -4.14%   +6.16%   $134.52B  \n",
       "94444  -0.01%   +0.00%   $143.45B  \n",
       "94445  +0.01%   +0.00%    $58.72B  \n",
       "\n",
       "[94446 rows x 9 columns]"
      ]
     },
     "execution_count": 54,
     "metadata": {},
     "output_type": "execute_result"
    }
   ],
   "source": [
    "df = pd.read_csv(\"/workspaces/MonoRepo/DPEL/FILES/cryptocurrency.csv\")\n",
    "df"
   ]
  },
  {
   "cell_type": "markdown",
   "id": "0cdcdd16",
   "metadata": {},
   "source": [
    "#### Preprocessing the price_usd to float"
   ]
  },
  {
   "cell_type": "code",
   "execution_count": 55,
   "id": "7726dfb5",
   "metadata": {},
   "outputs": [],
   "source": [
    "def remove_comma(val: pd.Series) -> float:\n",
    "    if '$' in val:\n",
    "        val = val.replace('$','')\n",
    "    if \"B\" in val:\n",
    "        val = val.replace('B','')\n",
    "        val = float(val) * 10**9\n",
    "        return val\n",
    "    if \"M\" in val:\n",
    "        val = val.replace('M','')\n",
    "        val = float(val) * 10**6\n",
    "        return val\n",
    "    if ',' in val:\n",
    "        val = val.replace(',','')\n",
    "        val = float(val)\n",
    "        return val\n",
    "    if '%' in val:\n",
    "        val = np.nan\n",
    "        return val\n",
    "    else:\n",
    "        val = float(val)\n",
    "        return val"
   ]
  },
  {
   "cell_type": "code",
   "execution_count": 56,
   "id": "a07a1d52",
   "metadata": {},
   "outputs": [],
   "source": [
    "df[\"updated_usd\"] = df[\"price_usd\"].apply(remove_comma)"
   ]
  },
  {
   "cell_type": "code",
   "execution_count": 46,
   "id": "66f7d594",
   "metadata": {},
   "outputs": [],
   "source": [
    "new_df = df.updated_usd.dropna().to_frame()"
   ]
  },
  {
   "cell_type": "markdown",
   "id": "630c1b5e",
   "metadata": {},
   "source": [
    "### MinMax Scaling"
   ]
  },
  {
   "cell_type": "code",
   "execution_count": null,
   "id": "4f98bb94",
   "metadata": {},
   "outputs": [
    {
     "data": {
      "text/plain": [
       "array([[1.00824762e-08],\n",
       "       [2.45385317e-12],\n",
       "       [4.26806841e-08],\n",
       "       ...,\n",
       "       [2.36237646e-11],\n",
       "       [1.01821599e-11],\n",
       "       [1.01821599e-11]], shape=(94430, 1))"
      ]
     },
     "execution_count": 48,
     "metadata": {},
     "output_type": "execute_result"
    }
   ],
   "source": [
    "scalar = MinMaxScaler()\n",
    "minmaxScaled = scalar.fit_transform(new_df)\n",
    "minmaxScaled"
   ]
  },
  {
   "cell_type": "code",
   "execution_count": null,
   "id": "f37fc0b0",
   "metadata": {},
   "outputs": [],
   "source": [
    "## Standard Scalar"
   ]
  },
  {
   "cell_type": "code",
   "execution_count": 57,
   "id": "41b730c0",
   "metadata": {},
   "outputs": [
    {
     "data": {
      "text/plain": [
       "array([[-0.00587655],\n",
       "       [-0.00587915],\n",
       "       [-0.00586812],\n",
       "       ...,\n",
       "       [-0.00587915],\n",
       "       [-0.00587915],\n",
       "       [-0.00587915]], shape=(94430, 1))"
      ]
     },
     "execution_count": 57,
     "metadata": {},
     "output_type": "execute_result"
    }
   ],
   "source": [
    "scalar = StandardScaler()\n",
    "standard_data = scalar.fit_transform(new_df)\n",
    "standard_data"
   ]
  },
  {
   "cell_type": "markdown",
   "id": "4b3385b8",
   "metadata": {},
   "source": [
    "## Robust Scalar"
   ]
  },
  {
   "cell_type": "code",
   "execution_count": 58,
   "id": "6cf8f6cc",
   "metadata": {},
   "outputs": [
    {
     "data": {
      "text/plain": [
       "array([[ 8.56873833e+00],\n",
       "       [-2.74707755e-02],\n",
       "       [ 3.63683802e+01],\n",
       "       ...,\n",
       "       [-9.41714637e-03],\n",
       "       [-2.08801016e-02],\n",
       "       [-2.08801016e-02]], shape=(94430, 1))"
      ]
     },
     "execution_count": 58,
     "metadata": {},
     "output_type": "execute_result"
    }
   ],
   "source": [
    "scalar = RobustScaler()\n",
    "robust_data = scalar.fit_transform(new_df)\n",
    "robust_data"
   ]
  }
 ],
 "metadata": {
  "kernelspec": {
   "display_name": "Python 3",
   "language": "python",
   "name": "python3"
  },
  "language_info": {
   "codemirror_mode": {
    "name": "ipython",
    "version": 3
   },
   "file_extension": ".py",
   "mimetype": "text/x-python",
   "name": "python",
   "nbconvert_exporter": "python",
   "pygments_lexer": "ipython3",
   "version": "3.12.1"
  }
 },
 "nbformat": 4,
 "nbformat_minor": 5
}
